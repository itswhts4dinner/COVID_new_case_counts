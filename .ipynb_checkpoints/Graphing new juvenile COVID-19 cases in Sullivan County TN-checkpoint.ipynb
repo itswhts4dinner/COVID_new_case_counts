{
 "cells": [
  {
   "cell_type": "code",
   "execution_count": null,
   "metadata": {},
   "outputs": [],
   "source": [
    "import pandas as pd\n",
    "import urllib.request\n",
    "import numpy as np\n",
    "import matplotlib.pyplot as plt"
   ]
  },
  {
   "cell_type": "code",
   "execution_count": null,
   "metadata": {},
   "outputs": [],
   "source": [
    "#Download Data from the Tennessee Department of Health\n",
    "url = \"https://www.tn.gov/content/dam/tn/health/documents/cedep/novel-coronavirus/datasets/Public-Dataset-Daily-County-Cases-5-18-Years.XLSX\"\n",
    "urllib.request.urlretrieve(url, \"latest_data.xlsx\")"
   ]
  },
  {
   "cell_type": "code",
   "execution_count": null,
   "metadata": {},
   "outputs": [],
   "source": [
    "#Open the latest state wide data\n",
    "latest_data = pd.read_excel('latest_data.xlsx')"
   ]
  },
  {
   "cell_type": "code",
   "execution_count": null,
   "metadata": {},
   "outputs": [],
   "source": [
    "#Trim the file to just sullivan county data\n",
    "sullivan_data = latest_data.query('COUNTY == \"Sullivan\"')"
   ]
  },
  {
   "cell_type": "code",
   "execution_count": null,
   "metadata": {},
   "outputs": [],
   "source": [
    "#Calculate date 60 days back\n",
    "from datetime import date, timedelta\n",
    "today = date.today() \n",
    "go_back_60_days = np.datetime64(today - timedelta(days=60))\n",
    "\n",
    "#create a new frame that is stripped to the last 60 days\n",
    "sullivan_data_60 = sullivan_data.copy()\n",
    "sullivan_data_60 = sullivan_data_60[sullivan_data_60['DATE'] >= go_back_60_days]"
   ]
  },
  {
   "cell_type": "code",
   "execution_count": null,
   "metadata": {},
   "outputs": [],
   "source": [
    "#Create a graph from pandemic outbreak\n",
    "x = sullivan_data.DATE\n",
    "y = sullivan_data.NEW_CASES\n",
    "plt.figure(figsize=(15, 5))\n",
    "plt.title('New cases ages 5-18 since outbreak')\n",
    "plt.ylabel('New Cases')\n",
    "plt.xlabel('Date')\n",
    "plt.bar(x,y)\n",
    "plt.show()"
   ]
  },
  {
   "cell_type": "code",
   "execution_count": null,
   "metadata": {},
   "outputs": [],
   "source": [
    "#Create a graph of the last 60 days\n",
    "x = sullivan_data_60.DATE\n",
    "y = sullivan_data_60.NEW_CASES\n",
    "plt.figure(figsize=(15, 5))\n",
    "plt.title('New cases ages 5-18 in the last 60 days')\n",
    "plt.ylabel('New Cases')\n",
    "plt.xlabel('Date')\n",
    "plt.bar(x,y)\n",
    "plt.show()"
   ]
  },
  {
   "cell_type": "code",
   "execution_count": null,
   "metadata": {},
   "outputs": [],
   "source": []
  }
 ],
 "metadata": {
  "kernelspec": {
   "display_name": "Python 3",
   "language": "python",
   "name": "python3"
  },
  "language_info": {
   "codemirror_mode": {
    "name": "ipython",
    "version": 3
   },
   "file_extension": ".py",
   "mimetype": "text/x-python",
   "name": "python",
   "nbconvert_exporter": "python",
   "pygments_lexer": "ipython3",
   "version": "3.8.5"
  }
 },
 "nbformat": 4,
 "nbformat_minor": 4
}
